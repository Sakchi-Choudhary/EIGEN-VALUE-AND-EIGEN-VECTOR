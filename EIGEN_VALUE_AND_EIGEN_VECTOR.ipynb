{
  "nbformat": 4,
  "nbformat_minor": 0,
  "metadata": {
    "colab": {
      "name": "EIGEN VALUE AND EIGEN VECTOR.ipynb",
      "provenance": []
    },
    "kernelspec": {
      "name": "python3",
      "display_name": "Python 3"
    }
  },
  "cells": [
    {
      "cell_type": "code",
      "metadata": {
        "id": "Y2_v9_Tdyv-N",
        "outputId": "3d320054-5d85-4661-be4c-9d3a042d4be3",
        "colab": {
          "base_uri": "https://localhost:8080/",
          "height": 67
        }
      },
      "source": [
        "import numpy as np\n",
        "\n",
        "a = np.array([[3, 1], [2, 2]])\n",
        "w, v = np.linalg.eig(a)\n",
        "\n",
        "print(w)\n",
        "print(v)"
      ],
      "execution_count": null,
      "outputs": [
        {
          "output_type": "stream",
          "text": [
            "[4. 1.]\n",
            "[[ 0.70710678 -0.4472136 ]\n",
            " [ 0.70710678  0.89442719]]\n"
          ],
          "name": "stdout"
        }
      ]
    },
    {
      "cell_type": "code",
      "metadata": {
        "id": "TTY1vzI_zFvg",
        "outputId": "92a592b9-529a-4e5c-bbb4-00a93a95bd3e",
        "colab": {
          "base_uri": "https://localhost:8080/",
          "height": 33
        }
      },
      "source": [
        "np.dot(a,v[:,0])\n",
        "np.dot(w[0],v[:,0])\n",
        "print(np.allclose(np.dot(a,v[:,0]),np.dot(w[0],v[:,0])))"
      ],
      "execution_count": null,
      "outputs": [
        {
          "output_type": "stream",
          "text": [
            "True\n"
          ],
          "name": "stdout"
        }
      ]
    },
    {
      "cell_type": "code",
      "metadata": {
        "id": "ulC4ghUVzaGI",
        "outputId": "5125f5d3-cdb1-449f-e446-069a4455b7fe",
        "colab": {
          "base_uri": "https://localhost:8080/",
          "height": 50
        }
      },
      "source": [
        "print(np.linalg.norm(v[:,0]))\n",
        "print(np.linalg.norm(v[:,1]))"
      ],
      "execution_count": null,
      "outputs": [
        {
          "output_type": "stream",
          "text": [
            "0.9999999999999999\n",
            "0.9999999999999999\n"
          ],
          "name": "stdout"
        }
      ]
    },
    {
      "cell_type": "code",
      "metadata": {
        "id": "aR2Wqs64wW-k",
        "outputId": "586d4a4d-599d-471e-ad15-8e60cecc84b2",
        "colab": {
          "base_uri": "https://localhost:8080/",
          "height": 134
        }
      },
      "source": [
        "import numpy as np\n",
        "m = np.mat(\"3 -2;1 0\")\n",
        "print(\"Original matrix:\")\n",
        "print(\"a\\n\", m)\n",
        "w, v = np.linalg.eig(m) \n",
        "print( \"Eigenvalues of the said matrix\",w)\n",
        "print( \"Eigenvectors of the said matrix\",v)"
      ],
      "execution_count": null,
      "outputs": [
        {
          "output_type": "stream",
          "text": [
            "Original matrix:\n",
            "a\n",
            " [[ 3 -2]\n",
            " [ 1  0]]\n",
            "Eigenvalues of the said matrix [2. 1.]\n",
            "Eigenvectors of the said matrix [[0.89442719 0.70710678]\n",
            " [0.4472136  0.70710678]]\n"
          ],
          "name": "stdout"
        }
      ]
    },
    {
      "cell_type": "code",
      "metadata": {
        "id": "8pVVwX3Fyfdj",
        "outputId": "d201296f-21da-4b3b-ddb0-da2f6953ddde",
        "colab": {
          "base_uri": "https://localhost:8080/",
          "height": 150
        }
      },
      "source": [
        "\n",
        "# importing numpy library \n",
        "import numpy as np \n",
        "  \n",
        "# create numpy 2d-array \n",
        "m = np.array([[1, 2], \n",
        "              [2, 3]]) \n",
        "  \n",
        "print(\"Printing the Original square array:\\n\",  m) \n",
        "  \n",
        "# finding eigenvalues and eigenvectors \n",
        "w, v = np.linalg.eig(m) \n",
        "  \n",
        "# printing eigen values \n",
        "print(\"Printing the Eigen values of the given square array:\\n\",   w) \n",
        "  \n",
        "# printing eigen vectors \n",
        "print(\"Printing Right eigenvectors of the given square array:\\n\", v)"
      ],
      "execution_count": null,
      "outputs": [
        {
          "output_type": "stream",
          "text": [
            "Printing the Original square array:\n",
            " [[1 2]\n",
            " [2 3]]\n",
            "Printing the Eigen values of the given square array:\n",
            " [-0.23606798  4.23606798]\n",
            "Printing Right eigenvectors of the given square array:\n",
            " [[-0.85065081 -0.52573111]\n",
            " [ 0.52573111 -0.85065081]]\n"
          ],
          "name": "stdout"
        }
      ]
    },
    {
      "cell_type": "code",
      "metadata": {
        "id": "GyRJ5FWjz8l-",
        "outputId": "81f2e3a4-bf14-4c33-f9b1-8d8ad06069cd",
        "colab": {
          "base_uri": "https://localhost:8080/",
          "height": 184
        }
      },
      "source": [
        "\n",
        "# importing numpy library \n",
        "import numpy as np \n",
        "  \n",
        "# create numpy 2d-array \n",
        "m = np.array([[1, 2, 3], \n",
        "              [2, 3, 4], \n",
        "              [4, 5, 6]]) \n",
        "  \n",
        "print(\"Printing the Original square array:\\n\", m) \n",
        "  \n",
        "# finding eigenvalues and eigenvectors \n",
        "w, v = np.linalg.eig(m) \n",
        "  \n",
        "# printing eigen values \n",
        "print(\"Printing the Eigen values of the given square array:\\n\", w) \n",
        "  \n",
        "# printing eigen vectors \n",
        "print(\"Printing Right eigenvectors of the given square array:\\n\",  v) "
      ],
      "execution_count": null,
      "outputs": [
        {
          "output_type": "stream",
          "text": [
            "Printing the Original square array:\n",
            " [[1 2 3]\n",
            " [2 3 4]\n",
            " [4 5 6]]\n",
            "Printing the Eigen values of the given square array:\n",
            " [ 1.08309519e+01 -8.30951895e-01  1.01486082e-16]\n",
            "Printing Right eigenvectors of the given square array:\n",
            " [[ 0.34416959  0.72770285  0.40824829]\n",
            " [ 0.49532111  0.27580256 -0.81649658]\n",
            " [ 0.79762415 -0.62799801  0.40824829]]\n"
          ],
          "name": "stdout"
        }
      ]
    },
    {
      "cell_type": "code",
      "metadata": {
        "id": "lz4AHJnAWbSu"
      },
      "source": [
        ""
      ],
      "execution_count": null,
      "outputs": []
    }
  ]
}